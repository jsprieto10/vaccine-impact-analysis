{
  "nbformat": 4,
  "nbformat_minor": 0,
  "metadata": {
    "colab": {
      "name": "Actividad: Estadística descriptiva: información a partir del análisis crítico de datos ",
      "provenance": []
    },
    "kernelspec": {
      "name": "python3",
      "display_name": "Python 3"
    }
  },
  "cells": [
    {
      "cell_type": "code",
      "metadata": {
        "id": "YHHwV0cOX_Pb"
      },
      "source": [
        "from random import randint,seed\n",
        "import pandas as pd\n",
        "seed(10)"
      ],
      "execution_count": 1,
      "outputs": []
    },
    {
      "cell_type": "code",
      "metadata": {
        "id": "cw2KSOYBbw0W"
      },
      "source": [
        "vaccines = \"Pfizer-BioNTech,Moderna,Gamaleya,Oxford-AstraZeneca,CanSino,Johnson & Johnson,Vector Institute,Sinopharm,Sinovac,Sinopharm-Wuhan,Bharat Biotec\".split(\",\")"
      ],
      "execution_count": 2,
      "outputs": []
    },
    {
      "cell_type": "code",
      "metadata": {
        "id": "wVeuBr5jaEla"
      },
      "source": [
        "headers = \"vaccine,age,sex,health,reaction,phase,inmunity\".split(\",\")"
      ],
      "execution_count": 3,
      "outputs": []
    },
    {
      "cell_type": "code",
      "metadata": {
        "id": "0c5QrIqkbYEE"
      },
      "source": [
        "data = []\n",
        "for i in range(1*10**4):\n",
        "  vaccine=vaccines[randint(0,len(vaccines)-1)]\n",
        "  age=randint(18,100)\n",
        "  sex='male' if randint(0,1) else 'female'\n",
        "  reaction=randint(0,100)\n",
        "  phase=randint(1,3)\n",
        "  health=randint(1,100)\n",
        "  inmunity=1 if i%100 else 0\n",
        "  data.append(dict(zip(headers, [vaccine,age,sex,health,reaction,phase,inmunity])))"
      ],
      "execution_count": 4,
      "outputs": []
    },
    {
      "cell_type": "code",
      "metadata": {
        "id": "TDghF4PScyPb"
      },
      "source": [
        "df = pd.DataFrame(data)\n",
        "df.to_csv(\"datos.csv\")"
      ],
      "execution_count": 5,
      "outputs": []
    },
    {
      "cell_type": "code",
      "metadata": {
        "id": "lpc8_JhLdUn-"
      },
      "source": [
        "def func(age):\n",
        "  r='youth'\n",
        "  if age>30:\n",
        "    r='early adulthood'\n",
        "  if age>50:\n",
        "    r='middle adulthood'\n",
        "  if age>70:\n",
        "    r=\"late adulthood\"\n",
        "  if age>90:\n",
        "    r=\"last adulthood\"\n",
        "  return r\n",
        "df[\"age_category\"] = df[\"age\"].apply(func)"
      ],
      "execution_count": 6,
      "outputs": []
    },
    {
      "cell_type": "code",
      "metadata": {
        "colab": {
          "base_uri": "https://localhost:8080/",
          "height": 206
        },
        "id": "SKNaPQa4gMsf",
        "outputId": "ca8c6668-f1c6-41d7-b887-06240a14779b"
      },
      "source": [
        "df_groupped = df.groupby(['vaccine', \"age_category\"], as_index=False).agg({'reaction':['mean','std']})\n",
        "df_groupped.columns = [' '.join(col).strip() for col in df_groupped.columns.values]\n",
        "df_groupped.head()"
      ],
      "execution_count": 7,
      "outputs": [
        {
          "output_type": "execute_result",
          "data": {
            "text/html": [
              "<div>\n",
              "<style scoped>\n",
              "    .dataframe tbody tr th:only-of-type {\n",
              "        vertical-align: middle;\n",
              "    }\n",
              "\n",
              "    .dataframe tbody tr th {\n",
              "        vertical-align: top;\n",
              "    }\n",
              "\n",
              "    .dataframe thead th {\n",
              "        text-align: right;\n",
              "    }\n",
              "</style>\n",
              "<table border=\"1\" class=\"dataframe\">\n",
              "  <thead>\n",
              "    <tr style=\"text-align: right;\">\n",
              "      <th></th>\n",
              "      <th>vaccine</th>\n",
              "      <th>age_category</th>\n",
              "      <th>reaction mean</th>\n",
              "      <th>reaction std</th>\n",
              "    </tr>\n",
              "  </thead>\n",
              "  <tbody>\n",
              "    <tr>\n",
              "      <th>0</th>\n",
              "      <td>Bharat Biotec</td>\n",
              "      <td>early adulthood</td>\n",
              "      <td>51.630137</td>\n",
              "      <td>30.418868</td>\n",
              "    </tr>\n",
              "    <tr>\n",
              "      <th>1</th>\n",
              "      <td>Bharat Biotec</td>\n",
              "      <td>last adulthood</td>\n",
              "      <td>50.275510</td>\n",
              "      <td>28.553722</td>\n",
              "    </tr>\n",
              "    <tr>\n",
              "      <th>2</th>\n",
              "      <td>Bharat Biotec</td>\n",
              "      <td>late adulthood</td>\n",
              "      <td>50.150685</td>\n",
              "      <td>29.182126</td>\n",
              "    </tr>\n",
              "    <tr>\n",
              "      <th>3</th>\n",
              "      <td>Bharat Biotec</td>\n",
              "      <td>middle adulthood</td>\n",
              "      <td>49.953586</td>\n",
              "      <td>29.553491</td>\n",
              "    </tr>\n",
              "    <tr>\n",
              "      <th>4</th>\n",
              "      <td>Bharat Biotec</td>\n",
              "      <td>youth</td>\n",
              "      <td>53.344371</td>\n",
              "      <td>28.878376</td>\n",
              "    </tr>\n",
              "  </tbody>\n",
              "</table>\n",
              "</div>"
            ],
            "text/plain": [
              "         vaccine      age_category  reaction mean  reaction std\n",
              "0  Bharat Biotec   early adulthood      51.630137     30.418868\n",
              "1  Bharat Biotec    last adulthood      50.275510     28.553722\n",
              "2  Bharat Biotec    late adulthood      50.150685     29.182126\n",
              "3  Bharat Biotec  middle adulthood      49.953586     29.553491\n",
              "4  Bharat Biotec             youth      53.344371     28.878376"
            ]
          },
          "metadata": {
            "tags": []
          },
          "execution_count": 7
        }
      ]
    },
    {
      "cell_type": "code",
      "metadata": {
        "colab": {
          "base_uri": "https://localhost:8080/",
          "height": 609
        },
        "id": "SyTtNc2W48op",
        "outputId": "c56db0ef-3839-4f85-a64b-0daf3a352b0e"
      },
      "source": [
        "index=[]\n",
        "data=[]\n",
        "for age_category in df_groupped.age_category.unique():\n",
        "  df_filter = df_groupped[df_groupped[\"age_category\"]==age_category]\n",
        "  index.append(age_category)\n",
        "  final_row={}\n",
        "  for _, row in df_filter.iterrows():\n",
        "    final_row[row[\"vaccine\"]]=row[\"reaction mean\"]\n",
        "  data.append(final_row)\n",
        "\n",
        "df_to_plot = pd.DataFrame(data,index=index)\n",
        "axes_1 = df_to_plot.plot.bar(rot=0, figsize=(20,10))\n",
        "axes_1.legend(loc='center left', bbox_to_anchor=(1, 0.5))"
      ],
      "execution_count": 8,
      "outputs": [
        {
          "output_type": "execute_result",
          "data": {
            "text/plain": [
              "<matplotlib.legend.Legend at 0x7f9a936a2860>"
            ]
          },
          "metadata": {
            "tags": []
          },
          "execution_count": 8
        },
        {
          "output_type": "display_data",
          "data": {
            "image/png": "[encoded data removed]",
            "text/plain": [
              "<Figure size 1440x720 with 1 Axes>"
            ]
          },
          "metadata": {
            "tags": [],
            "needs_background": "light"
          }
        }
      ]
    },
    {
      "cell_type": "code",
      "metadata": {
        "colab": {
          "base_uri": "https://localhost:8080/",
          "height": 206
        },
        "id": "hitORdWgpFC-",
        "outputId": "9e6cf1ae-07ff-4b89-e39a-635300058727"
      },
      "source": [
        "l=[]\n",
        "for age_category in df_groupped.age_category.unique():\n",
        "  best,value=None,float('inf')\n",
        "  df_filter = df_groupped[df_groupped[\"age_category\"]==age_category]\n",
        "  for index, row in df_filter.iterrows():\n",
        "    if row[\"reaction mean\"]<value:\n",
        "      best=row\n",
        "      value=row[\"reaction mean\"]\n",
        "\n",
        "  l.append(best)\n",
        "\n",
        "pd.DataFrame(l,index=range(len(l)))"
      ],
      "execution_count": 13,
      "outputs": [
        {
          "output_type": "execute_result",
          "data": {
            "text/html": [
              "<div>\n",
              "<style scoped>\n",
              "    .dataframe tbody tr th:only-of-type {\n",
              "        vertical-align: middle;\n",
              "    }\n",
              "\n",
              "    .dataframe tbody tr th {\n",
              "        vertical-align: top;\n",
              "    }\n",
              "\n",
              "    .dataframe thead th {\n",
              "        text-align: right;\n",
              "    }\n",
              "</style>\n",
              "<table border=\"1\" class=\"dataframe\">\n",
              "  <thead>\n",
              "    <tr style=\"text-align: right;\">\n",
              "      <th></th>\n",
              "      <th>vaccine</th>\n",
              "      <th>age_category</th>\n",
              "      <th>reaction mean</th>\n",
              "      <th>reaction std</th>\n",
              "    </tr>\n",
              "  </thead>\n",
              "  <tbody>\n",
              "    <tr>\n",
              "      <th>0</th>\n",
              "      <td>Pfizer-BioNTech</td>\n",
              "      <td>early adulthood</td>\n",
              "      <td>45.934498</td>\n",
              "      <td>28.533915</td>\n",
              "    </tr>\n",
              "    <tr>\n",
              "      <th>1</th>\n",
              "      <td>Moderna</td>\n",
              "      <td>last adulthood</td>\n",
              "      <td>43.048544</td>\n",
              "      <td>28.510878</td>\n",
              "    </tr>\n",
              "    <tr>\n",
              "      <th>2</th>\n",
              "      <td>Oxford-AstraZeneca</td>\n",
              "      <td>late adulthood</td>\n",
              "      <td>47.764706</td>\n",
              "      <td>28.941930</td>\n",
              "    </tr>\n",
              "    <tr>\n",
              "      <th>3</th>\n",
              "      <td>Pfizer-BioNTech</td>\n",
              "      <td>middle adulthood</td>\n",
              "      <td>47.793103</td>\n",
              "      <td>28.589040</td>\n",
              "    </tr>\n",
              "    <tr>\n",
              "      <th>4</th>\n",
              "      <td>Sinopharm</td>\n",
              "      <td>youth</td>\n",
              "      <td>45.931034</td>\n",
              "      <td>29.044424</td>\n",
              "    </tr>\n",
              "  </tbody>\n",
              "</table>\n",
              "</div>"
            ],
            "text/plain": [
              "              vaccine      age_category  reaction mean  reaction std\n",
              "0     Pfizer-BioNTech   early adulthood      45.934498     28.533915\n",
              "1             Moderna    last adulthood      43.048544     28.510878\n",
              "2  Oxford-AstraZeneca    late adulthood      47.764706     28.941930\n",
              "3     Pfizer-BioNTech  middle adulthood      47.793103     28.589040\n",
              "4           Sinopharm             youth      45.931034     29.044424"
            ]
          },
          "metadata": {
            "tags": []
          },
          "execution_count": 13
        }
      ]
    }
  ]
}